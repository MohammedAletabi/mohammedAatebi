{
 "cells": [
  {
   "cell_type": "code",
   "execution_count": 1,
   "id": "fa364df4-0d87-458d-a77f-ea47eef8c777",
   "metadata": {},
   "outputs": [
    {
     "name": "stdin",
     "output_type": "stream",
     "text": [
      "أدخل عنصرًا للصف:  1\n",
      "أدخل عنصرًا للصف:  2\n",
      "أدخل عنصرًا للصف:  5\n",
      "أدخل عنصرًا للصف:  5\n",
      "أدخل عنصرًا للصف:  2\n"
     ]
    },
    {
     "name": "stdout",
     "output_type": "stream",
     "text": [
      "1\n",
      "2\n",
      "5\n",
      "5\n",
      "2\n",
      "حجم الصف هو: 5\n"
     ]
    }
   ],
   "source": [
    "from queue import *\n",
    "\n",
    "myQueue = Queue()\n",
    "\n",
    "\n",
    "for i in range(5):\n",
    "    element = input(\"أدخل عنصرًا للصف: \")\n",
    "    myQueue.put(element)\n",
    "\n",
    "\n",
    "for element in list(myQueue.queue):\n",
    "    print(element)\n",
    "\n",
    "\n",
    "print(\"حجم الصف هو:\", myQueue.qsize())"
   ]
  },
  {
   "cell_type": "code",
   "execution_count": null,
   "id": "d0ca0e25-fe35-4ee9-bc41-cca6a7d48c04",
   "metadata": {},
   "outputs": [],
   "source": []
  }
 ],
 "metadata": {
  "kernelspec": {
   "display_name": "Python 3 (ipykernel)",
   "language": "python",
   "name": "python3"
  },
  "language_info": {
   "codemirror_mode": {
    "name": "ipython",
    "version": 3
   },
   "file_extension": ".py",
   "mimetype": "text/x-python",
   "name": "python",
   "nbconvert_exporter": "python",
   "pygments_lexer": "ipython3",
   "version": "3.12.4"
  }
 },
 "nbformat": 4,
 "nbformat_minor": 5
}
